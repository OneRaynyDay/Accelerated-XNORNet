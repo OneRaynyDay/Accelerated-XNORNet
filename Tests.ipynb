{
 "cells": [
  {
   "cell_type": "code",
   "execution_count": 1,
   "metadata": {},
   "outputs": [],
   "source": [
    "import torch\n",
    "import torch.nn as nn\n",
    "import numpy as np\n",
    "import torchvision\n",
    "import torchvision.transforms as transforms\n",
    "import matplotlib.pyplot as plt\n",
    "\n",
    "# Literal weights attached onto FPGA\n",
    "a_ = np.array([[1, 0, 0, 0, 0, 0, 0, 0, 0, 0, 0, 1, 0, 0, 0, 1, 1, 0, 0, 1, 1, 0,\n",
    "        1, 1, 0, 0, 1, 1, 0, 1, 1, 0, 0, 1, 0, 0, 1, 1, 1, 1, 0, 0, 0, 0,\n",
    "        1, 1, 0, 0, 1],\n",
    "       [0, 0, 0, 0, 0, 0, 0, 0, 0, 0, 1, 1, 1, 0, 0, 0, 0, 1, 0, 0, 0, 0,\n",
    "        0, 0, 1, 0, 0, 0, 0, 0, 1, 1, 0, 0, 0, 0, 0, 1, 1, 0, 0, 0, 0, 1,\n",
    "        1, 0, 0, 0, 0],\n",
    "       [0, 1, 1, 1, 1, 0, 1, 0, 1, 1, 1, 0, 0, 0, 0, 1, 0, 0, 1, 0, 0, 0,\n",
    "        0, 0, 1, 1, 0, 0, 1, 1, 1, 1, 1, 1, 1, 0, 1, 1, 0, 0, 1, 1, 0, 0,\n",
    "        0, 0, 0, 0, 1],\n",
    "       [0, 0, 1, 1, 0, 0, 0, 1, 1, 1, 1, 1, 0, 0, 1, 1, 0, 1, 0, 0, 0, 1,\n",
    "        0, 1, 1, 1, 0, 0, 1, 1, 0, 0, 1, 1, 0, 1, 1, 1, 0, 1, 0, 0, 1, 1,\n",
    "        1, 1, 0, 0, 0],\n",
    "       [1, 1, 0, 0, 0, 0, 0, 0, 0, 0, 0, 0, 1, 1, 0, 0, 1, 0, 1, 0, 1, 1,\n",
    "        1, 1, 1, 1, 1, 0, 0, 0, 1, 1, 1, 0, 0, 0, 0, 0, 1, 0, 0, 0, 0, 0,\n",
    "        0, 1, 1, 1, 1]], dtype=np.int8)\n",
    "a = a_.flatten()"
   ]
  },
  {
   "cell_type": "code",
   "execution_count": 3,
   "metadata": {},
   "outputs": [],
   "source": [
    "def packetize(im):\n",
    "    # Reverse the bits and chunk them up into 8 bit packets\n",
    "    pic = list(reversed(im))\n",
    "    pkts = []\n",
    "    for i in range(0, len(pic), 8):\n",
    "        pkts.append([0]*max(0, -(len(pic)-i-8)) + pic[max(0, len(pic)-i-8) : len(pic)-i])\n",
    "    return pkts\n",
    "\n",
    "def to_byte_pkts(pkts):\n",
    "    byte_pkts = []\n",
    "    for pkt in pkts:\n",
    "        byte = ''.join([str(x) for x in pkt])\n",
    "        # this will fail if x is not 0 or 1.\n",
    "        byte = int(byte, 2)\n",
    "        byte_pkts.append(byte)\n",
    "    return byte_pkts\n",
    "\n",
    "# Decoding side from FPGA:\n",
    "def decode(byte_pkts):\n",
    "    regs = []\n",
    "    for pkt in byte_pkts:\n",
    "        s = '{0:08b}'.format(pkt)\n",
    "        regs.insert(0, s)\n",
    "\n",
    "    data = [int(x) for s in regs for x in s]\n",
    "    return data\n",
    "\n",
    "# Mimicking the FPGA's behavior for XNORNET:\n",
    "def predict(data, weights):\n",
    "    # Now try to classify the 4:\n",
    "    idx_max = 0\n",
    "    max_val = 0\n",
    "    for class_idx, row in enumerate(weights):\n",
    "        rx = list(reversed(data))\n",
    "        s = 0\n",
    "        for a,b in zip(row, rx):\n",
    "            s += a & b # (1-(a ^ b))\n",
    "        if s > max_val:\n",
    "            max_val = s\n",
    "            idx_max = class_idx\n",
    "    return idx_max"
   ]
  },
  {
   "cell_type": "markdown",
   "metadata": {},
   "source": [
    "# Loading in Data\n",
    "\n",
    "We must prune the # of classes down to 5 (`{0,1,2,3,4}`)."
   ]
  },
  {
   "cell_type": "code",
   "execution_count": 6,
   "metadata": {},
   "outputs": [],
   "source": [
    "test_dataset = torchvision.datasets.MNIST(root='torch_dataset', \n",
    "                                          train=True, \n",
    "                                          transform=transforms.Compose([transforms.ToTensor()]),\n",
    "                                          download=True)\n",
    "dataset = list(test_dataset)\n",
    "y = np.array([_x[1] for _x in dataset])\n",
    "y = y[y < 5]\n",
    "arr = np.load('matrices/bin_mnist_flat.npz.npy')"
   ]
  },
  {
   "cell_type": "markdown",
   "metadata": {},
   "source": [
    "# Measuring the Accuracy"
   ]
  },
  {
   "cell_type": "code",
   "execution_count": 9,
   "metadata": {
    "scrolled": false
   },
   "outputs": [
    {
     "data": {
      "image/png": "[encoded data removed]",
      "text/plain": [
       "<Figure size 432x288 with 1 Axes>"
      ]
     },
     "metadata": {},
     "output_type": "display_data"
    },
    {
     "name": "stdout",
     "output_type": "stream",
     "text": [
      "Ground truth : 0 vs. prediction : 0\n"
     ]
    },
    {
     "data": {
      "image/png": "[encoded data removed]",
      "text/plain": [
       "<Figure size 432x288 with 1 Axes>"
      ]
     },
     "metadata": {},
     "output_type": "display_data"
    },
    {
     "name": "stdout",
     "output_type": "stream",
     "text": [
      "Ground truth : 4 vs. prediction : 4\n"
     ]
    },
    {
     "data": {
      "image/png": "[encoded data removed]",
      "text/plain": [
       "<Figure size 432x288 with 1 Axes>"
      ]
     },
     "metadata": {},
     "output_type": "display_data"
    },
    {
     "name": "stdout",
     "output_type": "stream",
     "text": [
      "Ground truth : 1 vs. prediction : 1\n"
     ]
    },
    {
     "data": {
      "image/png": "[encoded data removed]",
      "text/plain": [
       "<Figure size 432x288 with 1 Axes>"
      ]
     },
     "metadata": {},
     "output_type": "display_data"
    },
    {
     "name": "stdout",
     "output_type": "stream",
     "text": [
      "Ground truth : 2 vs. prediction : 2\n"
     ]
    },
    {
     "data": {
      "image/png": "[encoded data removed]",
      "text/plain": [
       "<Figure size 432x288 with 1 Axes>"
      ]
     },
     "metadata": {},
     "output_type": "display_data"
    },
    {
     "name": "stdout",
     "output_type": "stream",
     "text": [
      "Ground truth : 1 vs. prediction : 1\n"
     ]
    },
    {
     "data": {
      "image/png": "[encoded data removed]",
      "text/plain": [
       "<Figure size 432x288 with 1 Axes>"
      ]
     },
     "metadata": {},
     "output_type": "display_data"
    },
    {
     "name": "stdout",
     "output_type": "stream",
     "text": [
      "Ground truth : 3 vs. prediction : 3\n"
     ]
    },
    {
     "data": {
      "image/png": "[encoded data removed]",
      "text/plain": [
       "<Figure size 432x288 with 1 Axes>"
      ]
     },
     "metadata": {},
     "output_type": "display_data"
    },
    {
     "name": "stdout",
     "output_type": "stream",
     "text": [
      "Ground truth : 1 vs. prediction : 1\n"
     ]
    },
    {
     "data": {
      "image/png": "[encoded data removed]",
      "text/plain": [
       "<Figure size 432x288 with 1 Axes>"
      ]
     },
     "metadata": {},
     "output_type": "display_data"
    },
    {
     "name": "stdout",
     "output_type": "stream",
     "text": [
      "Ground truth : 4 vs. prediction : 4\n"
     ]
    },
    {
     "data": {
      "image/png": "[encoded data removed]",
      "text/plain": [
       "<Figure size 432x288 with 1 Axes>"
      ]
     },
     "metadata": {},
     "output_type": "display_data"
    },
    {
     "name": "stdout",
     "output_type": "stream",
     "text": [
      "Ground truth : 3 vs. prediction : 3\n"
     ]
    },
    {
     "data": {
      "image/png": "[encoded data removed]",
      "text/plain": [
       "<Figure size 432x288 with 1 Axes>"
      ]
     },
     "metadata": {},
     "output_type": "display_data"
    },
    {
     "name": "stdout",
     "output_type": "stream",
     "text": [
      "Ground truth : 3 vs. prediction : 3\n",
      "Correct 10 out of 10\n"
     ]
    }
   ],
   "source": [
    "corrects = 0\n",
    "n = 10\n",
    "show_img = True\n",
    "for i in range(0,n):\n",
    "    bpkts = to_byte_pkts(packetize(arr[i]))\n",
    "    data = decode(bpkts)\n",
    "    result = predict(data, a_)\n",
    "    \n",
    "    if show_img:\n",
    "        plt.imshow(arr[i].reshape(7,7))\n",
    "        plt.show()\n",
    "        print(\"Ground truth : {} vs. prediction : {}\".format(y[i], result))\n",
    "        \n",
    "    corrects += y[i] == result\n",
    "print(\"Correct {} out of {}\".format(corrects, n))"
   ]
  }
 ],
 "metadata": {
  "kernelspec": {
   "display_name": "Python 3",
   "language": "python",
   "name": "python3"
  },
  "language_info": {
   "codemirror_mode": {
    "name": "ipython",
    "version": 3
   },
   "file_extension": ".py",
   "mimetype": "text/x-python",
   "name": "python",
   "nbconvert_exporter": "python",
   "pygments_lexer": "ipython3",
   "version": "3.6.5"
  }
 },
 "nbformat": 4,
 "nbformat_minor": 2
}
