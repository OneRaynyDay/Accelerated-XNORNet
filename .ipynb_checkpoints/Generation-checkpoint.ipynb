{
 "cells": [
  {
   "cell_type": "code",
   "execution_count": 1,
   "metadata": {},
   "outputs": [],
   "source": [
    "import torch\n",
    "import torch.nn as nn\n",
    "import numpy as np\n",
    "import torchvision\n",
    "import torchvision.transforms as transforms\n",
    "import numpy as np\n",
    "\n",
    "import matplotlib.pyplot as plt\n",
    "\n",
    "from model import BinaryLinear"
   ]
  },
  {
   "cell_type": "markdown",
   "metadata": {},
   "source": [
    "# Taking binarized input data for MNIST"
   ]
  },
  {
   "cell_type": "code",
   "execution_count": 2,
   "metadata": {},
   "outputs": [],
   "source": [
    "test_dataset = torchvision.datasets.MNIST(root='torch_dataset', \n",
    "                                          train=True, \n",
    "                                          transform=transforms.Compose([\n",
    "                                                              transforms.ToTensor(), # first, convert image to PyTorch tensor\n",
    "                                                          ]),\n",
    "                                          download=True)"
   ]
  },
  {
   "cell_type": "code",
   "execution_count": 3,
   "metadata": {},
   "outputs": [],
   "source": [
    "dataset = list(test_dataset)"
   ]
  },
  {
   "cell_type": "code",
   "execution_count": 4,
   "metadata": {},
   "outputs": [],
   "source": [
    "X = np.array([_x[0].numpy() for _x in dataset])\n",
    "y = np.array([_x[1] for _x in dataset])"
   ]
  },
  {
   "cell_type": "code",
   "execution_count": 5,
   "metadata": {},
   "outputs": [],
   "source": [
    "X[X < 0.5] = 0\n",
    "X[X > 0.5] = 1\n",
    "X = X.astype(np.uint8)"
   ]
  },
  {
   "cell_type": "code",
   "execution_count": 6,
   "metadata": {},
   "outputs": [],
   "source": [
    "np.save('bin_mnist_3d_tensor.npz', X)"
   ]
  },
  {
   "cell_type": "code",
   "execution_count": 7,
   "metadata": {},
   "outputs": [],
   "source": [
    "X = X.reshape(60000, -1)"
   ]
  },
  {
   "cell_type": "code",
   "execution_count": 8,
   "metadata": {},
   "outputs": [
    {
     "name": "stdout",
     "output_type": "stream",
     "text": [
      "(60000, 784)\n"
     ]
    }
   ],
   "source": [
    "print(X.shape)"
   ]
  },
  {
   "cell_type": "code",
   "execution_count": 9,
   "metadata": {},
   "outputs": [],
   "source": [
    "np.save('bin_mnist_flat.npz', X)"
   ]
  },
  {
   "cell_type": "code",
   "execution_count": 10,
   "metadata": {},
   "outputs": [],
   "source": [
    "np.savetxt('bin_mnist_flat.csv', X, fmt='%i', delimiter=',')"
   ]
  },
  {
   "cell_type": "code",
   "execution_count": 11,
   "metadata": {},
   "outputs": [],
   "source": [
    "train_data = torch.utils.data.TensorDataset(torch.from_numpy(X.astype(np.float32)), torch.from_numpy(y))\n",
    "train_loader = torch.utils.data.DataLoader(train_data, batch_size=32, shuffle=True)"
   ]
  },
  {
   "cell_type": "markdown",
   "metadata": {},
   "source": [
    "# Try to train a torch model on it"
   ]
  },
  {
   "cell_type": "code",
   "execution_count": 12,
   "metadata": {},
   "outputs": [],
   "source": [
    "# Device configuration\n",
    "device = torch.device('cuda:0' if torch.cuda.is_available() else 'cpu')\n",
    "\n",
    "# 2 layer neural network\n",
    "class Net(nn.Module):\n",
    "    def __init__(self, num_classes=10):\n",
    "        super(Net, self).__init__()\n",
    "        self.fc = nn.Sequential(\n",
    "            BinaryLinear(28*28, 32),\n",
    "            nn.ReLU(),\n",
    "            BinaryLinear(32, num_classes))\n",
    "        \n",
    "    def forward(self, x):\n",
    "        out = self.fc(x)\n",
    "        return out"
   ]
  },
  {
   "cell_type": "code",
   "execution_count": 14,
   "metadata": {},
   "outputs": [
    {
     "name": "stdout",
     "output_type": "stream",
     "text": [
      "Epoch [1/1], Step [50/1875], Loss: 2.2968\n",
      "Epoch [1/1], Step [100/1875], Loss: 2.2528\n",
      "Epoch [1/1], Step [150/1875], Loss: 2.2204\n",
      "Epoch [1/1], Step [200/1875], Loss: 2.0545\n",
      "Epoch [1/1], Step [250/1875], Loss: 1.8130\n",
      "Epoch [1/1], Step [300/1875], Loss: 1.7147\n",
      "Epoch [1/1], Step [350/1875], Loss: 1.5275\n",
      "Epoch [1/1], Step [400/1875], Loss: 1.4128\n",
      "Epoch [1/1], Step [450/1875], Loss: 1.2401\n",
      "Epoch [1/1], Step [500/1875], Loss: 1.2449\n",
      "Epoch [1/1], Step [550/1875], Loss: 1.3538\n",
      "Epoch [1/1], Step [600/1875], Loss: 0.9067\n",
      "Epoch [1/1], Step [650/1875], Loss: 1.0802\n",
      "Epoch [1/1], Step [700/1875], Loss: 0.7355\n",
      "Epoch [1/1], Step [750/1875], Loss: 0.8332\n",
      "Epoch [1/1], Step [800/1875], Loss: 0.6719\n",
      "Epoch [1/1], Step [850/1875], Loss: 0.7919\n",
      "Epoch [1/1], Step [900/1875], Loss: 0.8578\n",
      "Epoch [1/1], Step [950/1875], Loss: 0.5641\n",
      "Epoch [1/1], Step [1000/1875], Loss: 0.8055\n",
      "Epoch [1/1], Step [1050/1875], Loss: 0.6227\n",
      "Epoch [1/1], Step [1100/1875], Loss: 0.5661\n",
      "Epoch [1/1], Step [1150/1875], Loss: 0.5361\n",
      "Epoch [1/1], Step [1200/1875], Loss: 0.9062\n",
      "Epoch [1/1], Step [1250/1875], Loss: 0.3663\n",
      "Epoch [1/1], Step [1300/1875], Loss: 0.3942\n",
      "Epoch [1/1], Step [1350/1875], Loss: 0.8616\n",
      "Epoch [1/1], Step [1400/1875], Loss: 0.8729\n",
      "Epoch [1/1], Step [1450/1875], Loss: 0.4334\n",
      "Epoch [1/1], Step [1500/1875], Loss: 0.8342\n",
      "Epoch [1/1], Step [1550/1875], Loss: 0.3947\n",
      "Epoch [1/1], Step [1600/1875], Loss: 0.3977\n",
      "Epoch [1/1], Step [1650/1875], Loss: 0.4272\n",
      "Epoch [1/1], Step [1700/1875], Loss: 0.4410\n",
      "Epoch [1/1], Step [1750/1875], Loss: 0.6398\n",
      "Epoch [1/1], Step [1800/1875], Loss: 0.6032\n",
      "Epoch [1/1], Step [1850/1875], Loss: 0.7512\n"
     ]
    }
   ],
   "source": [
    "model = Net().to(device)\n",
    "# Loss and optimizer\n",
    "criterion = nn.CrossEntropyLoss()\n",
    "optimizer = torch.optim.Adam(model.parameters(), lr=1e-3)\n",
    "\n",
    "# Train the model\n",
    "total_step = len(train_loader)\n",
    "losses = []\n",
    "for epoch in range(1):\n",
    "    for i, (images, labels) in enumerate(train_loader):\n",
    "        images = images.to(device)\n",
    "        labels = labels.to(device)\n",
    "\n",
    "        # Forward pass\n",
    "        outputs = model(images)\n",
    "        loss = criterion(outputs, labels)\n",
    "\n",
    "        # Backward and optimize\n",
    "        optimizer.zero_grad()\n",
    "        loss.backward()\n",
    "        optimizer.step()\n",
    "\n",
    "        if (i+1) % 50 == 0:\n",
    "            print ('Epoch [{}/{}], Step [{}/{}], Loss: {:.4f}' \n",
    "                   .format(epoch+1, 1, i+1, total_step, loss.item()))\n",
    "            losses.append(loss.item())"
   ]
  },
  {
   "cell_type": "code",
   "execution_count": 17,
   "metadata": {},
   "outputs": [
    {
     "name": "stdout",
     "output_type": "stream",
     "text": [
      "Test Accuracy of the model on the 10000 test images: 84.28666666666666 %\n"
     ]
    }
   ],
   "source": [
    "model.eval()  # eval mode (batchnorm uses moving mean/variance instead of mini-batch mean/variance)\n",
    "with torch.no_grad():\n",
    "    correct = 0\n",
    "    total = 0\n",
    "    for images, labels in train_loader:\n",
    "        images = images.to(device)\n",
    "        labels = labels.to(device)\n",
    "        outputs = model(images)\n",
    "        _, predicted = torch.max(outputs.data, 1)\n",
    "        total += labels.size(0)\n",
    "        correct += (predicted == labels).sum().item()\n",
    "    acc = 100 * correct / total\n",
    "    print('Test Accuracy of the model on the 60000 test images: {} %'.format(acc))"
   ]
  },
  {
   "cell_type": "code",
   "execution_count": null,
   "metadata": {},
   "outputs": [],
   "source": []
  }
 ],
 "metadata": {
  "kernelspec": {
   "display_name": "Python 3",
   "language": "python",
   "name": "python3"
  },
  "language_info": {
   "codemirror_mode": {
    "name": "ipython",
    "version": 3
   },
   "file_extension": ".py",
   "mimetype": "text/x-python",
   "name": "python",
   "nbconvert_exporter": "python",
   "pygments_lexer": "ipython3",
   "version": "3.6.5"
  }
 },
 "nbformat": 4,
 "nbformat_minor": 2
}
