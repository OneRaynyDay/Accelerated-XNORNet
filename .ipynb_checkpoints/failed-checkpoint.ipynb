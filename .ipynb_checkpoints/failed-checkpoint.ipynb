{
 "cells": [
  {
   "cell_type": "code",
   "execution_count": 1,
   "metadata": {},
   "outputs": [],
   "source": [
    "import torch\n",
    "import torch.nn as nn\n",
    "import numpy as np\n",
    "import torchvision\n",
    "import torchvision.transforms as transforms\n",
    "import matplotlib.pyplot as plt\n",
    "import pandas as pd\n",
    "import serial"
   ]
  },
  {
   "cell_type": "code",
   "execution_count": 2,
   "metadata": {},
   "outputs": [],
   "source": [
    "test_dataset = torchvision.datasets.MNIST(root='torch_dataset', \n",
    "                                          train=True, \n",
    "                                          transform=transforms.Compose([\n",
    "                                                              transforms.ToTensor(), # first, convert image to PyTorch tensor\n",
    "                                                          ]),\n",
    "                                          download=True)\n",
    "dataset = list(test_dataset)\n",
    "y = np.array([_x[1] for _x in dataset])"
   ]
  },
  {
   "cell_type": "code",
   "execution_count": 3,
   "metadata": {},
   "outputs": [
    {
     "name": "stderr",
     "output_type": "stream",
     "text": [
      "/usr/lib/python3.7/site-packages/ipykernel_launcher.py:1: FutureWarning: Method .as_matrix will be removed in a future version. Use .values instead.\n",
      "  \"\"\"Entry point for launching an IPython kernel.\n"
     ]
    }
   ],
   "source": [
    "arr = pd.read_csv('bin_mnist_flat.csv').as_matrix()"
   ]
  },
  {
   "cell_type": "code",
   "execution_count": 4,
   "metadata": {},
   "outputs": [
    {
     "data": {
      "text/plain": [
       "(59999, 784)"
      ]
     },
     "execution_count": 4,
     "metadata": {},
     "output_type": "execute_result"
    }
   ],
   "source": [
    "arr.shape"
   ]
  },
  {
   "cell_type": "code",
   "execution_count": 5,
   "metadata": {},
   "outputs": [],
   "source": [
    "arr = arr.reshape(59999, 28, 28)"
   ]
  },
  {
   "cell_type": "code",
   "execution_count": 6,
   "metadata": {},
   "outputs": [
    {
     "data": {
      "text/plain": [
       "1"
      ]
     },
     "execution_count": 6,
     "metadata": {},
     "output_type": "execute_result"
    }
   ],
   "source": [
    "np.amax(arr)"
   ]
  },
  {
   "cell_type": "code",
   "execution_count": 7,
   "metadata": {},
   "outputs": [],
   "source": [
    "\n",
    "flattened = nn.MaxPool2d(4, stride=4)(torch.from_numpy(arr.astype(float))).numpy()\n",
    "\n",
    "flattened = flattened[y[1:] < 5]\n",
    "y = y[y < 5]"
   ]
  },
  {
   "cell_type": "code",
   "execution_count": 71,
   "metadata": {},
   "outputs": [
    {
     "data": {
      "image/png": "[encoded data removed]",
      "text/plain": [
       "<Figure size 432x288 with 1 Axes>"
      ]
     },
     "metadata": {
      "needs_background": "light"
     },
     "output_type": "display_data"
    },
    {
     "name": "stdout",
     "output_type": "stream",
     "text": [
      "2\n",
      "[0, 0, 0, 0, 0, 0, 0, 0, 0, 0, 0, 0, 0, 0, 0, 1, 1, 1, 1, 1, 0, 0, 1, 1, 1, 1, 1, 0, 0, 1, 1, 1, 1, 1, 1, 0, 1, 1, 0, 0, 0, 0, 0, 0, 0, 0, 0, 0, 0]\n",
      "[0, 0, 0, 0, 0, 0, 0, 0, 0, 0, 0, 0, 0, 0, 0, 0, 0, 0, 0, 0, 0, 0, 1, 1, 1, 1, 1, 0, 0, 1, 1, 1, 1, 1, 0, 0, 1, 1, 1, 1, 1, 1, 0, 1, 1, 0, 0, 0, 0, 0, 0, 0, 0, 0, 0, 0]\n",
      "56\n",
      "[0, 0, 0, 0, 0, 0, 0, 0]\n",
      "[1, 1, 0, 1, 1, 0, 0, 0]\n",
      "[1, 1, 0, 0, 1, 1, 1, 1]\n",
      "[1, 1, 1, 0, 0, 1, 1, 1]\n",
      "[0, 0, 0, 0, 0, 0, 1, 1]\n",
      "[0, 0, 0, 0, 0, 0, 0, 0]\n",
      "[0, 0, 0, 0, 0, 0, 0, 0]\n",
      "sent\n"
     ]
    }
   ],
   "source": [
    "#4, 10, 12, 14 16, 23, 27, 70, 9\n",
    "i = 584\n",
    "plt.imshow(flattened[i])\n",
    "plt.show()\n",
    "print(y[i])\n",
    "\n",
    "def sendData(data):\n",
    "    baud_rate = 1000000\n",
    "    # \n",
    "    ser = serial.Serial('/dev/ttyUSB0', baud_rate)\n",
    "    for i in data:\n",
    "        ser.write([i])\n",
    "\n",
    "def reverseBits(num,bitSize=8): \n",
    "  \n",
    "     # convert number into binary representation \n",
    "     # output will be like bin(10) = '0b10101' \n",
    "    binary = bin(num) \n",
    "  \n",
    "     # skip first two characters of binary \n",
    "     # representation string and reverse \n",
    "     # remaining string and then append zeros \n",
    "     # after it. binary[-1:1:-1]  --> start \n",
    "     # from last character and reverse it until \n",
    "     # second last character from left \n",
    "    reverse = binary[-1:1:-1] \n",
    "    reverse = reverse + (bitSize - len(reverse))*'0'\n",
    "    #print(reverse)\n",
    "     # converts reversed binary string into integer \n",
    "    return int(reverse,2) \n",
    "\n",
    "test = np.ravel(flattened[i])\n",
    "data = [int(i) for i in test]\n",
    "print(data)\n",
    "while len(data) < 56:\n",
    "    data.insert(0, 0)\n",
    "print(data)\n",
    "print(len(data))\n",
    "\n",
    "def convert(bitlist):\n",
    "    out = 0\n",
    "    for bit in bitlist:\n",
    "        out = (out << 1) | bit\n",
    "    return out\n",
    "\n",
    "for i in reversed(range(0, len(data), 8)):\n",
    "    a = convert(data[i:i+8])\n",
    "    print(data[i:i+8])\n",
    "    sendData([a])\n",
    "    \n",
    "print(\"sent\")#"
   ]
  },
  {
   "cell_type": "code",
   "execution_count": 21,
   "metadata": {},
   "outputs": [
    {
     "data": {
      "image/png": "[encoded data removed]",
      "text/plain": [
       "<Figure size 432x288 with 1 Axes>"
      ]
     },
     "metadata": {
      "needs_background": "light"
     },
     "output_type": "display_data"
    },
    {
     "name": "stdout",
     "output_type": "stream",
     "text": [
      "1\n",
      "0000000\n",
      "0001000\n",
      "0001000\n",
      "0001000\n",
      "0001000\n",
      "0001000\n",
      "0001000\n",
      "0000000000100000010000001000000100000010000001000\n",
      "00000000 0\n",
      "00100000 32\n",
      "01000000 64\n",
      "10000001 129\n",
      "00000010 2\n",
      "00000100 4\n",
      "0 0\n",
      "b'\\x00 @\\x81\\x02\\x04\\x00'\n",
      "0000000\n",
      "0001000\n",
      "0001000\n",
      "0001000\n",
      "0001000\n",
      "0001000\n",
      "0001000\n",
      "sent\n"
     ]
    }
   ],
   "source": [
    "l = [4, 30]\n",
    "i = 10\n",
    "plt.imshow(flattened[i])\n",
    "plt.show()\n",
    "print(y[i])\n",
    "arr = []\n",
    "x = flattened[i]\n",
    "for x_ in x:\n",
    "    s = \"\"\n",
    "    for x__ in x_:\n",
    "        s += str(int(x__))\n",
    "    arr.append(s)\n",
    "    \n",
    "to_send = \"\"\n",
    "for a in arr:\n",
    "    to_send += str(a)\n",
    "    print(str(a))\n",
    "print(to_send)\n",
    "\n",
    "b = []\n",
    "for i in range(0, len(to_send), 8):\n",
    "    byte = int(to_send[i : i + 8], 2)\n",
    "    print(to_send[i : i + 8], byte)\n",
    "    b.append(byte) \n",
    "             \n",
    "bstr = bytes(b)\n",
    "print(bstr)\n",
    "\n",
    "\n",
    "for a in arr:\n",
    "    print(np.binary_repr(int(a, 2), width=7))\n",
    "\n",
    "sendData(b)\n",
    "print(\"sent\")"
   ]
  },
  {
   "cell_type": "code",
   "execution_count": null,
   "metadata": {},
   "outputs": [],
   "source": []
  },
  {
   "cell_type": "code",
   "execution_count": null,
   "metadata": {},
   "outputs": [],
   "source": []
  }
 ],
 "metadata": {
  "kernelspec": {
   "display_name": "Python 3",
   "language": "python",
   "name": "python3"
  },
  "language_info": {
   "codemirror_mode": {
    "name": "ipython",
    "version": 3
   },
   "file_extension": ".py",
   "mimetype": "text/x-python",
   "name": "python",
   "nbconvert_exporter": "python",
   "pygments_lexer": "ipython3",
   "version": "3.6.5"
  }
 },
 "nbformat": 4,
 "nbformat_minor": 2
}
