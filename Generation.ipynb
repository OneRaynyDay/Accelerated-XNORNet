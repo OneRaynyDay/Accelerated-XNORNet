{
 "cells": [
  {
   "cell_type": "code",
   "execution_count": 1,
   "metadata": {},
   "outputs": [],
   "source": [
    "import torch\n",
    "import torch.nn as nn\n",
    "import numpy as np\n",
    "import torchvision\n",
    "import torch.nn.functional as F\n",
    "import torchvision.transforms as transforms\n",
    "import numpy as np\n",
    "\n",
    "import matplotlib.pyplot as plt\n",
    "\n",
    "from model import BinaryLinear"
   ]
  },
  {
   "cell_type": "markdown",
   "metadata": {},
   "source": [
    "# Doing 2d Pooling to reduce image size\n",
    "\n",
    "(we want 8x8's from 32x32's, so a 2d pool of 4x4 filters with 4 stride would work)"
   ]
  },
  {
   "cell_type": "code",
   "execution_count": 2,
   "metadata": {},
   "outputs": [],
   "source": [
    "def reduce_image_avg(X, filter_size, stride_size):\n",
    "    \"\"\"\n",
    "    :param X: NxN image.\n",
    "    :param filter_size: the size of the filter e.g. (4x4) = 4\n",
    "    :param stride_size: the stride size\n",
    "    \"\"\"\n",
    "    tX = torch.from_numpy(X)\n",
    "    ty = torch.nn.MaxPool2d(kernel_size=filter_size, stride=stride_size)(tX)\n",
    "    y = ty.numpy()\n",
    "    return y"
   ]
  },
  {
   "cell_type": "markdown",
   "metadata": {},
   "source": [
    "# Taking binarized input data for MNIST"
   ]
  },
  {
   "cell_type": "code",
   "execution_count": 3,
   "metadata": {},
   "outputs": [],
   "source": [
    "test_dataset = torchvision.datasets.MNIST(root='torch_dataset', \n",
    "                                          train=True, \n",
    "                                          transform=transforms.Compose([\n",
    "                                                              transforms.ToTensor(), # first, convert image to PyTorch tensor\n",
    "                                                          ]),\n",
    "                                          download=True)\n",
    "\n",
    "dataset = list(test_dataset)\n",
    "dataset = [x for x in dataset if x[1] < 5]\n",
    "# filter by only 0, 1, 2, 3, 4\n",
    "\n",
    "X = np.array([_x[0].numpy() for _x in dataset])\n",
    "y = np.array([_x[1] for _x in dataset])\n",
    "\n",
    "X = reduce_image_avg(X, 4, 4)\n",
    "\n",
    "X[X < 0.5] = 0\n",
    "X[X > 0.5] = 1\n",
    "X = X.astype(np.uint8)"
   ]
  },
  {
   "cell_type": "markdown",
   "metadata": {},
   "source": [
    "## Sanity Check"
   ]
  },
  {
   "cell_type": "code",
   "execution_count": 4,
   "metadata": {
    "scrolled": true
   },
   "outputs": [
    {
     "data": {
      "image/png": "[encoded data removed]",
      "text/plain": [
       "<Figure size 432x288 with 1 Axes>"
      ]
     },
     "metadata": {},
     "output_type": "display_data"
    },
    {
     "name": "stdout",
     "output_type": "stream",
     "text": [
      "Label : 0\n"
     ]
    },
    {
     "data": {
      "image/png": "[encoded data removed]",
      "text/plain": [
       "<Figure size 432x288 with 1 Axes>"
      ]
     },
     "metadata": {},
     "output_type": "display_data"
    },
    {
     "name": "stdout",
     "output_type": "stream",
     "text": [
      "Label : 4\n"
     ]
    },
    {
     "data": {
      "image/png": "[encoded data removed]",
      "text/plain": [
       "<Figure size 432x288 with 1 Axes>"
      ]
     },
     "metadata": {},
     "output_type": "display_data"
    },
    {
     "name": "stdout",
     "output_type": "stream",
     "text": [
      "Label : 1\n"
     ]
    }
   ],
   "source": [
    "for i in range(3):\n",
    "    plt.imshow(X[i][0])\n",
    "    plt.show()\n",
    "    print('Label : {}'.format(y[i]))"
   ]
  },
  {
   "cell_type": "markdown",
   "metadata": {},
   "source": [
    "## Saving the matrix (We feed in the FPGA using flattened matrix)"
   ]
  },
  {
   "cell_type": "code",
   "execution_count": 5,
   "metadata": {},
   "outputs": [],
   "source": [
    "np.save('matrices/bin_mnist_3d_tensor.npz', X)\n",
    "X = X.reshape(X.shape[0], -1)\n",
    "np.save('matrices/bin_mnist_flat.npz', X)"
   ]
  },
  {
   "cell_type": "markdown",
   "metadata": {},
   "source": [
    "# Pytorch preprocessing"
   ]
  },
  {
   "cell_type": "code",
   "execution_count": 6,
   "metadata": {},
   "outputs": [],
   "source": [
    "train_data = torch.utils.data.TensorDataset(torch.from_numpy(X.astype(np.float32)), torch.from_numpy(y))\n",
    "train_loader = torch.utils.data.DataLoader(train_data, batch_size=32, shuffle=True)"
   ]
  },
  {
   "cell_type": "markdown",
   "metadata": {},
   "source": [
    "# Try to train a torch model on it"
   ]
  },
  {
   "cell_type": "code",
   "execution_count": 7,
   "metadata": {},
   "outputs": [],
   "source": [
    "# Device configuration\n",
    "device = torch.device('cuda:0' if torch.cuda.is_available() else 'cpu')\n",
    "\n",
    "# 2 layer neural network\n",
    "class Net(nn.Module):\n",
    "    def __init__(self, num_classes=5):\n",
    "        super(Net, self).__init__()\n",
    "        self.fc = BinaryLinear(49, 5)\n",
    "        \n",
    "    def forward(self, x):\n",
    "        out = self.fc(x)\n",
    "        return out\n",
    "\n",
    "model = Net().to(device)\n",
    "# Loss and optimizer\n",
    "criterion = nn.CrossEntropyLoss()\n",
    "optimizer = torch.optim.Adam(model.parameters(), lr=1e-3)\n",
    "\n",
    "# Train the model\n",
    "total_step = len(train_loader)\n",
    "losses = []\n",
    "\n",
    "max_loss = float('inf')"
   ]
  },
  {
   "cell_type": "code",
   "execution_count": 8,
   "metadata": {
    "scrolled": true
   },
   "outputs": [
    {
     "name": "stdout",
     "output_type": "stream",
     "text": [
      "Epoch [1/1], Step [50/957], Loss: 1.7428\n",
      "Test Accuracy of the model on the test images: 38.877631062884035 %\n",
      "Epoch [1/1], Step [100/957], Loss: 0.4911\n",
      "Test Accuracy of the model on the test images: 68.99921558373643 %\n",
      "Epoch [1/1], Step [150/957], Loss: 0.8834\n",
      "Test Accuracy of the model on the test images: 71.3982219898026 %\n",
      "Epoch [1/1], Step [200/957], Loss: 0.8392\n",
      "Test Accuracy of the model on the test images: 75.24186168126552 %\n",
      "Epoch [1/1], Step [250/957], Loss: 0.3316\n",
      "Test Accuracy of the model on the test images: 82.04994116878024 %\n",
      "Epoch [1/1], Step [300/957], Loss: 0.3459\n",
      "Epoch [1/1], Step [350/957], Loss: 0.6902\n",
      "Epoch [1/1], Step [400/957], Loss: 0.9732\n",
      "Epoch [1/1], Step [450/957], Loss: 0.9771\n",
      "Epoch [1/1], Step [500/957], Loss: 0.4339\n",
      "Epoch [1/1], Step [550/957], Loss: 0.4236\n",
      "Epoch [1/1], Step [600/957], Loss: 0.6645\n",
      "Epoch [1/1], Step [650/957], Loss: 0.5989\n",
      "Epoch [1/1], Step [700/957], Loss: 0.9015\n",
      "Epoch [1/1], Step [750/957], Loss: 0.3992\n",
      "Epoch [1/1], Step [800/957], Loss: 0.5972\n",
      "Test Accuracy of the model on the test images: 82.79186821806772 %\n",
      "Epoch [1/1], Step [850/957], Loss: 0.4285\n",
      "Epoch [1/1], Step [900/957], Loss: 1.4977\n",
      "Epoch [1/1], Step [950/957], Loss: 0.2480\n",
      "Epoch [2/1], Step [50/957], Loss: 0.6884\n",
      "Epoch [2/1], Step [100/957], Loss: 1.1579\n",
      "Epoch [2/1], Step [150/957], Loss: 2.4253\n",
      "Epoch [2/1], Step [200/957], Loss: 0.3862\n",
      "Epoch [2/1], Step [250/957], Loss: 0.6329\n",
      "Epoch [2/1], Step [300/957], Loss: 0.7564\n",
      "Epoch [2/1], Step [350/957], Loss: 1.0909\n",
      "Epoch [2/1], Step [400/957], Loss: 1.0993\n",
      "Epoch [2/1], Step [450/957], Loss: 0.6970\n",
      "Epoch [2/1], Step [500/957], Loss: 0.5309\n",
      "Epoch [2/1], Step [550/957], Loss: 0.4717\n",
      "Epoch [2/1], Step [600/957], Loss: 1.1481\n",
      "Epoch [2/1], Step [650/957], Loss: 0.3549\n",
      "Epoch [2/1], Step [700/957], Loss: 0.7488\n",
      "Epoch [2/1], Step [750/957], Loss: 1.1945\n",
      "Epoch [2/1], Step [800/957], Loss: 2.2169\n",
      "Epoch [2/1], Step [850/957], Loss: 1.0783\n",
      "Epoch [2/1], Step [900/957], Loss: 0.5592\n",
      "Epoch [2/1], Step [950/957], Loss: 0.3684\n",
      "Epoch [3/1], Step [50/957], Loss: 0.8081\n",
      "Epoch [3/1], Step [100/957], Loss: 0.6950\n",
      "Epoch [3/1], Step [150/957], Loss: 0.5195\n",
      "Epoch [3/1], Step [200/957], Loss: 0.6034\n",
      "Epoch [3/1], Step [250/957], Loss: 0.3423\n",
      "Epoch [3/1], Step [300/957], Loss: 0.4878\n",
      "Epoch [3/1], Step [350/957], Loss: 0.8304\n",
      "Test Accuracy of the model on the test images: 83.21676036083149 %\n",
      "Epoch [3/1], Step [400/957], Loss: 1.1058\n",
      "Epoch [3/1], Step [450/957], Loss: 0.5826\n",
      "Epoch [3/1], Step [500/957], Loss: 0.6913\n",
      "Test Accuracy of the model on the test images: 84.38031115178455 %\n",
      "Epoch [3/1], Step [550/957], Loss: 0.8101\n",
      "Epoch [3/1], Step [600/957], Loss: 0.6484\n",
      "Epoch [3/1], Step [650/957], Loss: 1.3821\n",
      "Epoch [3/1], Step [700/957], Loss: 1.7997\n",
      "Epoch [3/1], Step [750/957], Loss: 1.8837\n",
      "Epoch [3/1], Step [800/957], Loss: 0.3516\n",
      "Epoch [3/1], Step [850/957], Loss: 0.4549\n",
      "Epoch [3/1], Step [900/957], Loss: 0.9593\n",
      "Epoch [3/1], Step [950/957], Loss: 0.3865\n",
      "Epoch [4/1], Step [50/957], Loss: 0.5365\n",
      "Epoch [4/1], Step [100/957], Loss: 0.7014\n",
      "Epoch [4/1], Step [150/957], Loss: 0.5367\n",
      "Epoch [4/1], Step [200/957], Loss: 0.3524\n",
      "Epoch [4/1], Step [250/957], Loss: 0.8672\n",
      "Epoch [4/1], Step [300/957], Loss: 0.7319\n",
      "Epoch [4/1], Step [350/957], Loss: 0.4000\n",
      "Epoch [4/1], Step [400/957], Loss: 1.1214\n",
      "Epoch [4/1], Step [450/957], Loss: 0.6235\n",
      "Epoch [4/1], Step [500/957], Loss: 0.4459\n",
      "Epoch [4/1], Step [550/957], Loss: 0.8195\n",
      "Epoch [4/1], Step [600/957], Loss: 0.5068\n",
      "Epoch [4/1], Step [650/957], Loss: 0.9235\n",
      "Epoch [4/1], Step [700/957], Loss: 1.3347\n",
      "Epoch [4/1], Step [750/957], Loss: 0.7171\n",
      "Epoch [4/1], Step [800/957], Loss: 0.5868\n",
      "Epoch [4/1], Step [850/957], Loss: 0.6979\n",
      "Epoch [4/1], Step [900/957], Loss: 0.6890\n",
      "Epoch [4/1], Step [950/957], Loss: 1.1866\n",
      "Epoch [5/1], Step [50/957], Loss: 1.0781\n",
      "Epoch [5/1], Step [100/957], Loss: 1.2175\n",
      "Epoch [5/1], Step [150/957], Loss: 0.5642\n",
      "Epoch [5/1], Step [200/957], Loss: 1.0059\n",
      "Epoch [5/1], Step [250/957], Loss: 0.8096\n",
      "Epoch [5/1], Step [300/957], Loss: 0.2021\n",
      "Epoch [5/1], Step [350/957], Loss: 0.8708\n",
      "Epoch [5/1], Step [400/957], Loss: 0.6502\n",
      "Epoch [5/1], Step [450/957], Loss: 0.3615\n",
      "Epoch [5/1], Step [500/957], Loss: 1.1209\n",
      "Epoch [5/1], Step [550/957], Loss: 1.3181\n",
      "Epoch [5/1], Step [600/957], Loss: 0.5988\n",
      "Epoch [5/1], Step [650/957], Loss: 0.9632\n",
      "Epoch [5/1], Step [700/957], Loss: 0.8888\n",
      "Epoch [5/1], Step [750/957], Loss: 0.7425\n",
      "Epoch [5/1], Step [800/957], Loss: 0.6155\n",
      "Epoch [5/1], Step [850/957], Loss: 0.3729\n",
      "Epoch [5/1], Step [900/957], Loss: 1.4463\n",
      "Epoch [5/1], Step [950/957], Loss: 2.0313\n",
      "Epoch [6/1], Step [50/957], Loss: 0.5323\n",
      "Epoch [6/1], Step [100/957], Loss: 0.4245\n",
      "Epoch [6/1], Step [150/957], Loss: 0.7920\n",
      "Epoch [6/1], Step [200/957], Loss: 0.6612\n",
      "Epoch [6/1], Step [250/957], Loss: 0.7412\n",
      "Epoch [6/1], Step [300/957], Loss: 0.5387\n",
      "Epoch [6/1], Step [350/957], Loss: 0.8723\n",
      "Epoch [6/1], Step [400/957], Loss: 0.6211\n",
      "Epoch [6/1], Step [450/957], Loss: 0.4186\n",
      "Epoch [6/1], Step [500/957], Loss: 0.8476\n",
      "Epoch [6/1], Step [550/957], Loss: 0.6092\n",
      "Epoch [6/1], Step [600/957], Loss: 0.7989\n",
      "Epoch [6/1], Step [650/957], Loss: 0.4640\n",
      "Epoch [6/1], Step [700/957], Loss: 0.5474\n",
      "Epoch [6/1], Step [750/957], Loss: 1.1960\n",
      "Epoch [6/1], Step [800/957], Loss: 0.6104\n",
      "Epoch [6/1], Step [850/957], Loss: 1.8156\n",
      "Epoch [6/1], Step [900/957], Loss: 0.8319\n",
      "Epoch [6/1], Step [950/957], Loss: 0.4132\n",
      "Epoch [7/1], Step [50/957], Loss: 0.3800\n",
      "Epoch [7/1], Step [100/957], Loss: 0.8572\n",
      "Epoch [7/1], Step [150/957], Loss: 0.8785\n",
      "Epoch [7/1], Step [200/957], Loss: 1.3446\n",
      "Epoch [7/1], Step [250/957], Loss: 0.5659\n",
      "Epoch [7/1], Step [300/957], Loss: 0.6998\n",
      "Epoch [7/1], Step [350/957], Loss: 0.5958\n",
      "Epoch [7/1], Step [400/957], Loss: 0.6055\n",
      "Epoch [7/1], Step [450/957], Loss: 0.4984\n",
      "Epoch [7/1], Step [500/957], Loss: 0.6487\n",
      "Epoch [7/1], Step [550/957], Loss: 0.4152\n",
      "Epoch [7/1], Step [600/957], Loss: 1.0366\n",
      "Epoch [7/1], Step [650/957], Loss: 0.9041\n",
      "Epoch [7/1], Step [700/957], Loss: 0.6540\n",
      "Epoch [7/1], Step [750/957], Loss: 0.7823\n",
      "Epoch [7/1], Step [800/957], Loss: 1.2590\n",
      "Epoch [7/1], Step [850/957], Loss: 0.5804\n",
      "Epoch [7/1], Step [900/957], Loss: 0.4436\n",
      "Epoch [7/1], Step [950/957], Loss: 0.5442\n",
      "Epoch [8/1], Step [50/957], Loss: 0.8007\n",
      "Epoch [8/1], Step [100/957], Loss: 1.0424\n",
      "Epoch [8/1], Step [150/957], Loss: 1.3127\n",
      "Epoch [8/1], Step [200/957], Loss: 0.9425\n",
      "Epoch [8/1], Step [250/957], Loss: 0.8064\n",
      "Epoch [8/1], Step [300/957], Loss: 0.5171\n",
      "Epoch [8/1], Step [350/957], Loss: 0.9704\n",
      "Epoch [8/1], Step [400/957], Loss: 1.3667\n",
      "Epoch [8/1], Step [450/957], Loss: 0.8310\n",
      "Epoch [8/1], Step [500/957], Loss: 0.3928\n",
      "Epoch [8/1], Step [550/957], Loss: 0.5833\n",
      "Epoch [8/1], Step [600/957], Loss: 0.7976\n",
      "Epoch [8/1], Step [650/957], Loss: 0.5995\n",
      "Epoch [8/1], Step [700/957], Loss: 1.3139\n",
      "Epoch [8/1], Step [750/957], Loss: 0.8662\n",
      "Epoch [8/1], Step [800/957], Loss: 0.7415\n",
      "Epoch [8/1], Step [850/957], Loss: 0.9987\n",
      "Epoch [8/1], Step [900/957], Loss: 0.9799\n",
      "Epoch [8/1], Step [950/957], Loss: 0.5279\n",
      "Epoch [9/1], Step [50/957], Loss: 0.5479\n",
      "Epoch [9/1], Step [100/957], Loss: 0.6602\n",
      "Epoch [9/1], Step [150/957], Loss: 0.7414\n",
      "Epoch [9/1], Step [200/957], Loss: 1.2777\n",
      "Epoch [9/1], Step [250/957], Loss: 1.3927\n",
      "Epoch [9/1], Step [300/957], Loss: 2.2285\n",
      "Epoch [9/1], Step [350/957], Loss: 0.6556\n",
      "Epoch [9/1], Step [400/957], Loss: 1.0336\n",
      "Epoch [9/1], Step [450/957], Loss: 0.3988\n",
      "Epoch [9/1], Step [500/957], Loss: 0.8614\n",
      "Epoch [9/1], Step [550/957], Loss: 0.5881\n",
      "Epoch [9/1], Step [600/957], Loss: 0.3436\n",
      "Epoch [9/1], Step [650/957], Loss: 0.7389\n",
      "Epoch [9/1], Step [700/957], Loss: 0.3988\n",
      "Epoch [9/1], Step [750/957], Loss: 0.6291\n",
      "Epoch [9/1], Step [800/957], Loss: 1.2311\n",
      "Epoch [9/1], Step [850/957], Loss: 1.1335\n",
      "Epoch [9/1], Step [900/957], Loss: 1.3093\n",
      "Epoch [9/1], Step [950/957], Loss: 0.5932\n",
      "Epoch [10/1], Step [50/957], Loss: 1.3930\n",
      "Epoch [10/1], Step [100/957], Loss: 0.4996\n",
      "Epoch [10/1], Step [150/957], Loss: 0.8339\n",
      "Epoch [10/1], Step [200/957], Loss: 0.4656\n",
      "Epoch [10/1], Step [250/957], Loss: 1.0484\n",
      "Epoch [10/1], Step [300/957], Loss: 1.0681\n",
      "Epoch [10/1], Step [350/957], Loss: 0.7118\n",
      "Epoch [10/1], Step [400/957], Loss: 1.0581\n",
      "Epoch [10/1], Step [450/957], Loss: 0.6069\n",
      "Epoch [10/1], Step [500/957], Loss: 1.3616\n",
      "Epoch [10/1], Step [550/957], Loss: 1.3852\n",
      "Epoch [10/1], Step [600/957], Loss: 0.5315\n"
     ]
    },
    {
     "name": "stdout",
     "output_type": "stream",
     "text": [
      "Epoch [10/1], Step [650/957], Loss: 1.4762\n",
      "Epoch [10/1], Step [700/957], Loss: 0.8864\n",
      "Epoch [10/1], Step [750/957], Loss: 0.9452\n",
      "Epoch [10/1], Step [800/957], Loss: 0.6464\n",
      "Epoch [10/1], Step [850/957], Loss: 0.4957\n",
      "Epoch [10/1], Step [900/957], Loss: 0.8519\n",
      "Epoch [10/1], Step [950/957], Loss: 0.9439\n"
     ]
    }
   ],
   "source": [
    "def eval_model(model, train_loader, device):\n",
    "    model.eval()  # eval mode (batchnorm uses moving mean/variance instead of mini-batch mean/variance)\n",
    "    with torch.no_grad():\n",
    "        correct = 0\n",
    "        total = 0\n",
    "        for images, labels in train_loader:\n",
    "            images = images.to(device)\n",
    "            labels = labels.to(device)\n",
    "            outputs = model(images)\n",
    "            _, predicted = torch.max(outputs.data, 1)\n",
    "            total += labels.size(0)\n",
    "            correct += (predicted == labels).sum().item()\n",
    "        acc = 100 * correct / total\n",
    "        return acc\n",
    "\n",
    "max_acc = 0\n",
    "    \n",
    "for epoch in range(10):\n",
    "    for i, (images, labels) in enumerate(train_loader):\n",
    "        images = images.to(device)\n",
    "        labels = labels.to(device)\n",
    "\n",
    "        # Forward pass\n",
    "        outputs = model(images)\n",
    "        loss = criterion(outputs, labels)\n",
    "\n",
    "        # Backward and optimize\n",
    "        optimizer.zero_grad()\n",
    "        loss.backward()\n",
    "        optimizer.step()\n",
    "\n",
    "        if (i+1) % 50 == 0:\n",
    "            print ('Epoch [{}/{}], Step [{}/{}], Loss: {:.4f}' \n",
    "                   .format(epoch+1, 1, i+1, total_step, loss.item()))\n",
    "            cur_acc = eval_model(model, train_loader, device)\n",
    "            if cur_acc > max_acc:\n",
    "                max_acc = cur_acc\n",
    "                print('Test Accuracy of the model on the test images: {} %'.format(cur_acc))\n",
    "                torch.save(model.state_dict(), 'model.ckpt')"
   ]
  },
  {
   "cell_type": "code",
   "execution_count": 9,
   "metadata": {},
   "outputs": [],
   "source": [
    "model.load_state_dict(torch.load('model.ckpt'))\n",
    "params = dict(model.fc.named_parameters())"
   ]
  },
  {
   "cell_type": "markdown",
   "metadata": {},
   "source": [
    "# Save the matrix"
   ]
  },
  {
   "cell_type": "code",
   "execution_count": 10,
   "metadata": {},
   "outputs": [],
   "source": [
    "# To actually retrieve the values, we take the magnitude and the signs:\n",
    "for pname in params:\n",
    "    w = params[pname].data.cpu().numpy()\n",
    "    sign = np.sign(w)\n",
    "    sign[sign < 0] = 0\n",
    "    sign = sign.astype(np.int8)\n",
    "    np.save('{}'.format(pname), sign)"
   ]
  },
  {
   "cell_type": "code",
   "execution_count": 11,
   "metadata": {},
   "outputs": [],
   "source": [
    "# sanity check\n",
    "w = np.load('weight.npy').astype(int)\n",
    "x = X.astype(int)"
   ]
  },
  {
   "cell_type": "code",
   "execution_count": 14,
   "metadata": {},
   "outputs": [
    {
     "name": "stdout",
     "output_type": "stream",
     "text": [
      "8357 10000\n",
      "0.839717610145117\n"
     ]
    }
   ],
   "source": [
    "# Mimicking the FPGA's behavior for XNORNET:\n",
    "def predict(data, weights):\n",
    "    # Now try to classify the 4:\n",
    "    idx_max = 0\n",
    "    max_val = 0\n",
    "    for class_idx, row in enumerate(weights):\n",
    "        rx = data\n",
    "        s = 0\n",
    "        for a,b in zip(row, rx):\n",
    "            s += a & b # (1-(a ^ b))\n",
    "        if s > max_val:\n",
    "            max_val = s\n",
    "            idx_max = class_idx\n",
    "    return idx_max\n",
    "\n",
    "corrects = 0\n",
    "n = 10000\n",
    "for i in range(n):\n",
    "    pred = predict(x[i], w)\n",
    "    corrects += pred == y[i]\n",
    "print(corrects, n)\n",
    "\n",
    "print(np.mean(np.argmax(x.dot(w.T), axis=1) == y))"
   ]
  },
  {
   "cell_type": "code",
   "execution_count": null,
   "metadata": {},
   "outputs": [],
   "source": []
  }
 ],
 "metadata": {
  "kernelspec": {
   "display_name": "Python 3",
   "language": "python",
   "name": "python3"
  },
  "language_info": {
   "codemirror_mode": {
    "name": "ipython",
    "version": 3
   },
   "file_extension": ".py",
   "mimetype": "text/x-python",
   "name": "python",
   "nbconvert_exporter": "python",
   "pygments_lexer": "ipython3",
   "version": "3.6.5"
  }
 },
 "nbformat": 4,
 "nbformat_minor": 2
}
